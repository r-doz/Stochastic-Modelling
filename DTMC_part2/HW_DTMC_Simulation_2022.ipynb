{
 "cells": [
  {
   "cell_type": "code",
   "execution_count": 18,
   "metadata": {},
   "outputs": [],
   "source": [
    "import numpy as np\n",
    "import pandas as pd\n",
    "from random import seed\n",
    "from random import random\n",
    "import matplotlib.pyplot as plt\n",
    "import time\n",
    "import math\n",
    "import scipy.stats"
   ]
  },
  {
   "cell_type": "markdown",
   "metadata": {},
   "source": [
    "# Discrete Time Markov Chains - Part 2\n",
    "This is an exercise notebook on DTMCs. \n",
    "\n",
    "Remember to revise of the lecture on DTMC simulation before attempting to solve it!\n",
    "In order to complete this notebook, you need the models implemented in Part 1 notebook on DTMC."
   ]
  },
  {
   "cell_type": "code",
   "execution_count": 19,
   "metadata": {},
   "outputs": [],
   "source": [
    "#Some useful methods from the lecture on Sampling\n",
    "\n",
    "def sample_from_uniform(N):\n",
    "    \n",
    "    uniform_samples = np.random.uniform(low=0.0, high=1.0, size=N)\n",
    "    \n",
    "    return uniform_samples\n",
    "\n",
    "def sample_discrete(N,p):\n",
    "    n = p.shape[0]\n",
    "    epsilon = 0.001\n",
    "    if  (np.sum(p) > (1.0 + epsilon) or np.sum(p) < (1 - epsilon)):\n",
    "        print(\"Watch out: the vector of probabilities do not sum up to one!\")\n",
    "    else:\n",
    "        S = np.cumsum(p)\n",
    "        U = sample_from_uniform(N)\n",
    "    \n",
    "        sampled_indexes = np.empty(N)\n",
    "        for j in range(N):\n",
    "            for i in range(n):\n",
    "                if S[i] > U[j]:\n",
    "                    sampled_indexes[j] = i\n",
    "                    break\n",
    "\n",
    "        return sampled_indexes"
   ]
  },
  {
   "cell_type": "markdown",
   "metadata": {},
   "source": [
    "### 1. Simulation of DTMC\n",
    "Write a method that simulates a DTMC for `n` steps, where `n` is a parameter of the method, and returns the whole trajectory as output."
   ]
  },
  {
   "cell_type": "code",
   "execution_count": 20,
   "metadata": {},
   "outputs": [],
   "source": [
    "#The class of the previous homework is reused, with a difference on the method get_prob_model (see comment above)\n",
    "#and a new method for the simulation\n",
    "\n",
    "class DTCM:\n",
    "    \"\"\"A class to initialize a DTMC, to compute transient bdtcm.simulate_DTMC(n)ehaviour, steady state behaviour, and reachability\"\"\"\n",
    "    \n",
    "    def __init__(self, trans_matrix, init_prob):\n",
    "        self.check_well_defined(trans_matrix)\n",
    "        self.trans_matrix = trans_matrix\n",
    "        self.init_prob = init_prob\n",
    "        self.state_names = None\n",
    "\n",
    "    def check_well_defined(self, trans_matrix):\n",
    "        epsilon = 0.0001\n",
    "        for i in range(len(trans_matrix)):\n",
    "            sum_row = 0\n",
    "            for j in range(len(trans_matrix)):\n",
    "                sum_row = sum_row + trans_matrix[i][j]\n",
    "            if(sum_row > (1.0 + epsilon) or sum_row < (1 - epsilon)):\n",
    "                raise Exception(\"The transition matrix is not well defined!\")\n",
    "        \n",
    "        \n",
    "    #Transient behviour\n",
    "    def get_prob_model(self, n, create_plot = True, preserve_change = False):\n",
    "        pi=[]\n",
    "        pi.append(self.init_prob)\n",
    "        trans_copy=self.trans_matrix.copy()\n",
    "        for i in range(n):\n",
    "            trans_copy=np.matmul(trans_copy,self.trans_matrix)\n",
    "            prob_model = np.matmul(self.init_prob,trans_copy)\n",
    "            pi.append(prob_model)\n",
    "        if(create_plot):\n",
    "            print(prob_model)\n",
    "            dfdistribution = pd.DataFrame(pi)\n",
    "            plt.pcolormesh(dfdistribution)\n",
    "            plt.show()\n",
    "            dfdistribution.plot()\n",
    "            plt.show()\n",
    "        if(preserve_change):\n",
    "            #ADDED THE FOLLOWING COMMAND TO PRESERVE THE CHANGES TO THE TRANSITION MATRIX\n",
    "            self.trans_matrix = trans_copy\n",
    "        return prob_model\n",
    "\n",
    "    #steady state behaviour\n",
    "    def get_steady_state_probability(self):    \n",
    "        #define an inital state (the steady state behaviour doesn't depend on it)\n",
    "        p_0 = [0 for i in range(len(self.trans_matrix))]\n",
    "        p_0[0]=1        \n",
    "        #compute p_n until the error is smaller than epsilon = 0.01\n",
    "        p_pre = p_0\n",
    "        p_after = np.matmul(p_0,self.trans_matrix)\n",
    "        eps = 0.0001\n",
    "        count = 0    \n",
    "        while(np.linalg.norm(p_after-p_pre)>eps and count != 100):\n",
    "            p_pre = p_after\n",
    "            p_after = np.matmul(p_after,self.trans_matrix)\n",
    "            count = count + 1            \n",
    "        return p_after, count\n",
    "\n",
    "    #reachability\n",
    "    def get_prob_absorption_model(self, target_region):\n",
    "        #STEP 1: modify DTMC to pi_A\n",
    "        pi_A = self.trans_matrix\n",
    "        for i in range(len(target_region)):\n",
    "            index = target_region[i]\n",
    "            for j in range(len(self.trans_matrix)):\n",
    "                pi_A[index][j] = 0\n",
    "            pi_A[index][index] = 1\n",
    "        #STEP 2: compute h_0\n",
    "        h_0 = [0 for i in range(len(self.trans_matrix))]\n",
    "        for i in range(len(target_region)):\n",
    "            h_0[target_region[i]]=1\n",
    "        #STEP 3: compute h_n until the error is smaller than epsilon = 0.01\n",
    "        h_pre = h_0\n",
    "        h_after = np.matmul(pi_A, h_0)\n",
    "        eps = 0.01\n",
    "        count = 0\n",
    "        h_pre = h_after\n",
    "        h_after = np.matmul(pi_A,h_after)\n",
    "        count = count + 1  \n",
    "        while(np.linalg.norm(h_after-h_pre)>eps and count != 100):\n",
    "            h_pre = h_after\n",
    "            h_after = np.matmul(pi_A,h_after)\n",
    "            count = count + 1            \n",
    "        return h_after, count\n",
    "    \n",
    "    #hitting time\n",
    "    def get_exp_hitting_time_model(self, target_region):    \n",
    "        e_0 = [1 for i in range(len(self.trans_matrix))]\n",
    "        maxcount = 100\n",
    "        #STEP 1: modify DTMC to pi_A\n",
    "        pi_A = self.trans_matrix\n",
    "        for i in range(len(target_region)):\n",
    "            index = target_region[i]\n",
    "            for j in range(len(self.trans_matrix)):\n",
    "                pi_A[index][j] = 0\n",
    "            pi_A[index][index] = 1\n",
    "        #STEP 2: compute xi_0\n",
    "        xi_0 = [1 for i in range(len(self.trans_matrix))]   \n",
    "        for i in range(len(target_region)):\n",
    "            xi_0[target_region[i]]=0\n",
    "        #STEP 3: compute xi_n until the error is smaller than epsilon\n",
    "        xi_pre = xi_0\n",
    "        xi_pre= [a + b if a>0 else 0 for a, b in zip(xi_pre, e_0) ] \n",
    "        xi_after = np.matmul(pi_A, (xi_pre))\n",
    "        eps = 0.01\n",
    "        count = 0\n",
    "        xi_pre = xi_after\n",
    "        xi_after= [a + b if a>0 else 0 for a, b in zip(xi_after, e_0) ]\n",
    "        xi_after = np.matmul(pi_A,(xi_after))\n",
    "        count = count + 1  \n",
    "        while(np.linalg.norm(xi_after-xi_pre)>eps and count != maxcount):\n",
    "            xi_pre = xi_after\n",
    "            xi_after= [a + b if a>0 else 0 for a, b in zip(xi_after, e_0) ]\n",
    "            xi_after = np.matmul(pi_A,(xi_after))\n",
    "            count = count + 1\n",
    "        if(count == maxcount):\n",
    "            warnings.warn(\"The algorithm doesn't converge in \" + str(maxcount) + \" steps\")   \n",
    "        return xi_after, count\n",
    "    \n",
    "    #map linking state numbers to names\n",
    "    def map_names(self, names):\n",
    "        state_num = [i for i in range(len(self.trans_matrix))]\n",
    "        self.state_names = dict(zip(state_num, names))\n",
    "    \n",
    "    #simulate a possible trajectory from the probability model\n",
    "    def simulate_DTMC(self, n, create_plot = True):\n",
    "        s=[0 for j in range(n)]\n",
    "        s[0] = sample_discrete(1, self.init_prob)\n",
    "        for i in range(n-1):\n",
    "            pi_i = self.get_prob_model(1, False, True)\n",
    "            s[i+1] = sample_discrete(1, pi_i)\n",
    "        if(create_plot):\n",
    "            plt.plot(range(n), s)\n",
    "            plt.show()\n",
    "        return s"
   ]
  },
  {
   "cell_type": "code",
   "execution_count": 21,
   "metadata": {},
   "outputs": [
    {
     "data": {
      "image/png": "[encoded data removed]",
      "text/plain": [
       "<Figure size 432x288 with 1 Axes>"
      ]
     },
     "metadata": {
      "needs_background": "light"
     },
     "output_type": "display_data"
    },
    {
     "data": {
      "text/plain": [
       "[array([1.]),\n",
       " array([1.]),\n",
       " array([0.]),\n",
       " array([0.]),\n",
       " array([1.]),\n",
       " array([0.]),\n",
       " array([1.]),\n",
       " array([0.]),\n",
       " array([1.]),\n",
       " array([0.]),\n",
       " array([1.]),\n",
       " array([2.]),\n",
       " array([0.]),\n",
       " array([0.]),\n",
       " array([0.]),\n",
       " array([0.]),\n",
       " array([0.]),\n",
       " array([0.]),\n",
       " array([1.]),\n",
       " array([1.]),\n",
       " array([1.]),\n",
       " array([0.]),\n",
       " array([1.]),\n",
       " array([2.]),\n",
       " array([0.]),\n",
       " array([1.]),\n",
       " array([1.]),\n",
       " array([1.]),\n",
       " array([0.]),\n",
       " array([0.]),\n",
       " array([1.]),\n",
       " array([0.]),\n",
       " array([0.]),\n",
       " array([1.]),\n",
       " array([1.]),\n",
       " array([2.]),\n",
       " array([0.]),\n",
       " array([1.]),\n",
       " array([0.]),\n",
       " array([1.])]"
      ]
     },
     "execution_count": 21,
     "metadata": {},
     "output_type": "execute_result"
    }
   ],
   "source": [
    "P = np.array([[0.2, 0.7, 0.1],\n",
    "              [0.9, 0.0, 0.1],\n",
    "              [0.2, 0.8, 0.0]])\n",
    "init_state=np.array([0.0, 1.0, 0.0])\n",
    "n = 40\n",
    "\n",
    "dtcm = DTCM(P, init_state)\n",
    "dtcm.simulate_DTMC(n)"
   ]
  },
  {
   "cell_type": "markdown",
   "metadata": {},
   "source": [
    "### 2. Statistical analysis\n",
    "Write methods for:\n",
    "- 2.1. computing the average of a function `f` of the state space, at time step `n`.\n",
    "- 2.2. computing the probability of reaching a target region `A` of the state space by time step `n`.\n",
    "\n",
    "Both methods should use simulation, and return an estimate and a confidence interval at a specified confidence level `alpha` (0.95% by default)."
   ]
  },
  {
   "cell_type": "code",
   "execution_count": 22,
   "metadata": {},
   "outputs": [],
   "source": [
    "#Simulate the trajectories m times, compute the function in each trajectory (f_j)\n",
    "#and calculate E[y] = 1/n * sum(f_j)\n",
    "\n",
    "def average_function(P, init_state, f, n, confidence = 0.95):\n",
    "    m = 10\n",
    "    y_j = []\n",
    "    for j in range(m):\n",
    "        dtcm = DTCM(P, init_state)\n",
    "        t = dtcm.simulate_DTMC(n, False)\n",
    "        y_j.append(f(t))\n",
    "    y_n = 1/m*sum(y_j)\n",
    "    dif = [math.pow(y_j[i]-y_n, 2) for i in range(m)]\n",
    "    s_n = math.pow(1/(m-1)*sum(dif), 0.5)\n",
    "    h = s_n / math.pow(m,0.5) * scipy.stats.t.ppf((1 + confidence) / 2., m-1)\n",
    "    \n",
    "    \n",
    "    return y_n, y_n - h, y_n + h"
   ]
  },
  {
   "cell_type": "code",
   "execution_count": 23,
   "metadata": {},
   "outputs": [
    {
     "name": "stdout",
     "output_type": "stream",
     "text": [
      "The average of the function is: [1.5] with confidence interval at level 95.0% : [ [1.12297381], [1.87702619] ]\n"
     ]
    }
   ],
   "source": [
    "confidence = 0.95\n",
    "y, int1, int2 = average_function(P, init_state, max, 10, confidence)\n",
    "print(\"The average of the function is: \" + str(y) + \" with confidence interval at level \" + str(confidence*100) + \"% : [ \" + str(int1)+ \", \" + str(int2) + \" ]\")"
   ]
  },
  {
   "cell_type": "code",
   "execution_count": 24,
   "metadata": {},
   "outputs": [],
   "source": [
    "#Simulate the trajectories m times, compute the number of times A is reached over m (and calculate the interval assuming Bernoulli distribution)\n",
    "\n",
    "def prob_reach_A(P, init_state, target_region, n, confidence = 0.95):\n",
    "    m = 100\n",
    "    y_j = []\n",
    "    pi_A = P.copy()\n",
    "    count = 0 \n",
    "    #the states of the target region are absorbing\n",
    "    for i in range(len(target_region)):\n",
    "        index = target_region[i]\n",
    "        for j in range(len(P)):\n",
    "            pi_A[index][j] = 0\n",
    "        pi_A[index][index] = 1\n",
    "    for j in range(m):\n",
    "        #this should be optimized not to initialize at each iteration \n",
    "        dtcm = DTCM(pi_A, init_state)\n",
    "        t = dtcm.simulate_DTMC(n, False)\n",
    "        if(t[n-1] in target_region):\n",
    "            count = count + 1\n",
    "    y_n = count/m\n",
    "    \n",
    "    s_n = math.pow(y_n*(1-y_n), 0.5)         \n",
    "    h = s_n / math.pow(n,0.5) * scipy.stats.t.ppf((1 + confidence) / 2., m-1) \n",
    "    \n",
    "    return y_n, y_n - h, y_n + h\n",
    "    "
   ]
  },
  {
   "cell_type": "code",
   "execution_count": 25,
   "metadata": {},
   "outputs": [
    {
     "name": "stdout",
     "output_type": "stream",
     "text": [
      "The probability of reaching A is: 0.34 with confidence interval at level 80.0% : [ 0.14673398823555078, 0.5332660117644492 ]\n"
     ]
    }
   ],
   "source": [
    "P = np.array([[1, 0, 0, 0, 0],\n",
    "              [0.6, 0, 0.4, 0, 0],\n",
    "              [0, 0.6, 0, 0.4, 0],\n",
    "              [0, 0, 0.6, 0, 0.4],\n",
    "              [0, 0, 0, 0, 1]])\n",
    "init = np.array([0.0, 0.0, 0.0, 1.0, 0.0])\n",
    "region=np.array([0])\n",
    "confidence = 0.80\n",
    "y, int1, int2 = prob_reach_A(P, init, region, 10, confidence)\n",
    "print(\"The probability of reaching A is: \" + str(y) + \" with confidence interval at level \" + str(confidence*100) + \"% : [ \" + str(int1)+ \", \" + str(int2) + \" ]\")"
   ]
  },
  {
   "cell_type": "markdown",
   "metadata": {},
   "source": [
    "### 3. Branching chain\n",
    "Consider a population, in which each individual at each\n",
    "generation independently gives birth to $k$ individuals with\n",
    "probability $p_k$. These will be the members of the next\n",
    "generation. Assume $k\\in\\{-1, 0,1,2\\}$. The population is initial compused of two individuals Adam and Eve."
   ]
  },
  {
   "cell_type": "markdown",
   "metadata": {},
   "source": [
    "Assume now that $p_0 = p_1 = p_2 = (1-p_{-1})/3$. Estimate the average and the confidence interval of the probability of the population to become extinct for increasing values of $p_{-1}$."
   ]
  },
  {
   "cell_type": "code",
   "execution_count": 27,
   "metadata": {},
   "outputs": [],
   "source": [
    "#Simulate for each individual and sum the number of children of all the individuals \n",
    "#to get the number of individuals of the next generation\n",
    "\n",
    "def simulate_branching_chain(n_i, p_i, N, create_plot = True):\n",
    "    s=[0 for j in range(N+1)]\n",
    "    s[0] = n_i\n",
    "    for j in range(N):\n",
    "        xn = 0\n",
    "        for i in range(n_i):        \n",
    "            xi = sample_discrete(1, p_i)\n",
    "            xn = xn + xi       \n",
    "        n_i = int(xn)\n",
    "        s[j+1] = int(xn)\n",
    "        \n",
    "    if(create_plot):\n",
    "        plt.plot(range(N+1), s)\n",
    "        plt.show()\n",
    "    return xn"
   ]
  },
  {
   "cell_type": "code",
   "execution_count": 28,
   "metadata": {},
   "outputs": [],
   "source": [
    "def get_prob_extinction(n_init, p_i, N, n_sim, confidence = 0.95):\n",
    "    count = 0\n",
    "    for i in range(n_sim):\n",
    "        xi = simulate_branching_chain(n_init, p_i, N, False)\n",
    "        if(xi == 0):\n",
    "            count = count+1\n",
    "    \n",
    "    y_n = count/n_sim\n",
    "    \n",
    "    s_n = math.pow(y_n*(1-y_n), 0.5)         \n",
    "    h = s_n / math.pow(n_sim,0.5) * scipy.stats.t.ppf((1 + confidence) / 2., n_sim-1) \n",
    "    \n",
    "    return y_n, y_n - h, y_n + h"
   ]
  },
  {
   "cell_type": "code",
   "execution_count": 29,
   "metadata": {},
   "outputs": [
    {
     "data": {
      "image/png": "[encoded data removed]",
      "text/plain": [
       "<Figure size 432x288 with 1 Axes>"
      ]
     },
     "metadata": {
      "needs_background": "light"
     },
     "output_type": "display_data"
    },
    {
     "name": "stdout",
     "output_type": "stream",
     "text": [
      "0\n"
     ]
    }
   ],
   "source": [
    "#Test the function for one simulation\n",
    "p_1 = 0.5\n",
    "p0 = (1-p_1)/3\n",
    "p1 = (1-p_1)/3\n",
    "p2 = (1-p_1)/3\n",
    "n_init = 2\n",
    "\n",
    "p_i = np.array([p_1, p0, p1, p2])\n",
    "\n",
    "x = simulate_branching_chain(n_init, p_i, 10)\n",
    "print(x)"
   ]
  },
  {
   "cell_type": "code",
   "execution_count": 30,
   "metadata": {},
   "outputs": [
    {
     "name": "stdout",
     "output_type": "stream",
     "text": [
      "The probability of extinction is: 0.84 with confidence interval at level 95.0% : [ 0.7358117119306661, 0.9441882880693339 ]\n"
     ]
    }
   ],
   "source": [
    "#Test the extinction probbility with 50 simulations of 20 steps\n",
    "confidence = 0.95\n",
    "y, int1, int2 = get_prob_extinction(n_init, p_i, 20, 50, confidence)\n",
    "print(\"The probability of extinction is: \" + str(y) + \" with confidence interval at level \" + str(confidence*100) + \"% : [ \" + str(int1)+ \", \" + str(int2) + \" ]\")"
   ]
  },
  {
   "cell_type": "code",
   "execution_count": 31,
   "metadata": {},
   "outputs": [],
   "source": [
    "p_1 = [0.1*(j+1) for j in range(9)]\n",
    "y = [0 for k in range(9)]\n",
    "p0 = (1-p_1[1])/3\n",
    "p1 = (1-p_1[1])/3\n",
    "p2 = (1-p_1[1])/3\n",
    "p_i = np.array([p_1[1], p0, p1, p2])\n",
    "n_init = 2\n",
    "p_i\n",
    "x, x1, x2 = get_prob_extinction(n_init, p_i, 20, 10, confidence)"
   ]
  },
  {
   "cell_type": "code",
   "execution_count": 32,
   "metadata": {},
   "outputs": [],
   "source": [
    "#Compute the extinction probability for different values of the p_1\n",
    "for i in range(9):\n",
    "    p0 = (1-p_1[i])/3\n",
    "    p1 = (1-p_1[i])/3\n",
    "    p2 = (1-p_1[i])/3\n",
    "    p_i = np.array([p_1[i], p0, p1, p2])\n",
    "    n_init = 2\n",
    "    x, x1, x2 = get_prob_extinction(2, p_i, 20, 10, confidence)\n",
    "    y[i] = x"
   ]
  },
  {
   "cell_type": "code",
   "execution_count": 33,
   "metadata": {},
   "outputs": [
    {
     "data": {
      "image/png": "[encoded data removed]",
      "text/plain": [
       "<Figure size 432x288 with 1 Axes>"
      ]
     },
     "metadata": {
      "needs_background": "light"
     },
     "output_type": "display_data"
    }
   ],
   "source": [
    "plt.plot(p_1, y)\n",
    "plt.show()"
   ]
  }
 ],
 "metadata": {
  "kernelspec": {
   "display_name": "Python 3 (ipykernel)",
   "language": "python",
   "name": "python3"
  },
  "language_info": {
   "codemirror_mode": {
    "name": "ipython",
    "version": 3
   },
   "file_extension": ".py",
   "mimetype": "text/x-python",
   "name": "python",
   "nbconvert_exporter": "python",
   "pygments_lexer": "ipython3",
   "version": "3.7.0"
  }
 },
 "nbformat": 4,
 "nbformat_minor": 2
}
