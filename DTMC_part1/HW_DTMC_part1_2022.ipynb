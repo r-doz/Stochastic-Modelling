{
 "cells": [
  {
   "cell_type": "code",
   "execution_count": 19,
   "metadata": {},
   "outputs": [],
   "source": [
    "import numpy as np\n",
    "import matplotlib.pyplot as plt\n",
    "import pandas as pd\n",
    "# add here the libraries you need\n",
    "from markovchain import MarkovChain\n",
    "import warnings\n",
    "from scipy.stats import binom"
   ]
  },
  {
   "cell_type": "markdown",
   "metadata": {},
   "source": [
    "# Discrete Time Markov Chains\n",
    "This is an exercise notebook on DTMCs. \n",
    "\n",
    "Remember to revise of the lecture on DTMC before attempting to solve it! "
   ]
  },
  {
   "cell_type": "markdown",
   "metadata": {},
   "source": [
    "### Models\n",
    "\n",
    "Consider few DTMCs, those seen in the lectures and few more:\n",
    "\n",
    "1. A student goes to a concert and alternates between being \"dancing\" and being \"at the bar\" until, at a certain point, it goes home which is an absorbing state. Model this scenario as a DTMC, draw the diagram and define the respective transition matrix, called `transition_concert`.  \n",
    "\n",
    "Give names to states and use a dictionary to match names with indexes in the matrix.\n",
    "\n",
    "\n",
    "Always check that the defined transition matrix is **well-defined**."
   ]
  },
  {
   "cell_type": "code",
   "execution_count": 20,
   "metadata": {},
   "outputs": [],
   "source": [
    "#the function takes in input a transition matrix\n",
    "#and throws an exception if the matrix is not well defined\n",
    "def check_well_defined(trans_matrix):\n",
    "        epsilon = 0.0001\n",
    "        for i in range(len(trans_matrix)):\n",
    "            sum_row = 0\n",
    "            for j in range(len(trans_matrix)):\n",
    "                sum_row = sum_row + trans_matrix[i][j]\n",
    "            if(sum_row > (1.0 + epsilon) or sum_row < (1 - epsilon)):\n",
    "                raise Exception(\"The transition matrix is not well defined!\")"
   ]
  },
  {
   "cell_type": "code",
   "execution_count": 21,
   "metadata": {},
   "outputs": [
    {
     "data": {
      "image/png": "[encoded data removed]",
      "text/plain": [
       "<Figure size 720x432 with 1 Axes>"
      ]
     },
     "metadata": {
      "needs_background": "light"
     },
     "output_type": "display_data"
    }
   ],
   "source": [
    "# statespace \n",
    "states_dict = {0:\"Dance\", 1:\"Bar\", 2:\"Home\"}\n",
    "\n",
    "# possible choice of probabilities\n",
    "DH = 0.1\n",
    "BH = 0.1\n",
    "DB = 0.3\n",
    "BD = 0.4\n",
    "\n",
    "# transition matrix\n",
    "transition_concert = np.array([\n",
    "    [1 - (DH + DB), DB, DH],\n",
    "    [BD, 1 - (BH + BD), BH],\n",
    "    [0.0, 0.0, 1.0],\n",
    "])\n",
    "                \n",
    "check_well_defined(transition_concert)\n",
    "\n",
    "mc = MarkovChain(transition_concert, ['Dance', 'Bar', 'Home'])\n",
    "mc.draw()"
   ]
  },
  {
   "cell_type": "markdown",
   "metadata": {},
   "source": [
    "2. Consider a walker moving randomly along the star graph shown below. The graph is composed of six states. State 6 is the terminal point. \n",
    "\n",
    "<img src=\"imgs/star_graph.png\" width=\"300\">\n",
    "\n",
    "Model the movement of the walker as a DTMC. Choose the parameters $a,b,c,d,e,f,e\\in (0,1)$ so that the transition matrix, `transition_star`, is well-defined.\n",
    "Keep in mind that, ingoing and outgoing transitions can happen with different probabilities."
   ]
  },
  {
   "cell_type": "code",
   "execution_count": 22,
   "metadata": {},
   "outputs": [
    {
     "data": {
      "text/plain": [
       "array([[0. , 0. , 0. , 0.2, 0.8, 0. ],\n",
       "       [0. , 0. , 0.7, 0. , 0.2, 0.1],\n",
       "       [0. , 0.4, 0. , 0.6, 0. , 0. ],\n",
       "       [0.8, 0. , 0.2, 0. , 0. , 0. ],\n",
       "       [0.3, 0.7, 0. , 0. , 0. , 0. ],\n",
       "       [0. , 0. , 0. , 0. , 0. , 1. ]])"
      ]
     },
     "execution_count": 22,
     "metadata": {},
     "output_type": "execute_result"
    }
   ],
   "source": [
    "#this is a possible choice of the probabilities\n",
    "a = 0.8\n",
    "b = 0.1\n",
    "c = 0.7\n",
    "d = 0.6\n",
    "e = 0.8\n",
    "f = 0.7\n",
    "\n",
    "#this is the general transition matrix for the movement of the walker\n",
    "transition_star = np.array([\n",
    "    [0.0, 0.0, 0.0, (1-a), a, 0.0],\n",
    "    [0.0, 0.0, c, 0.0 , (1-b-c), b],\n",
    "    [0.0, (1-d), 0.0, d, 0.0, 0.0],\n",
    "    [e, 0.0, (1-e), 0.0, 0.0, 0.0],\n",
    "    [(1-f), f, 0.0, 0.0, 0.0, 0.0],\n",
    "    [0.0, 0.0, 0.0, 0.0, 0.0, 1.0]\n",
    "])\n",
    "\n",
    "check_well_defined(transition_star)\n",
    "\n",
    "transition_star\n"
   ]
  },
  {
   "cell_type": "markdown",
   "metadata": {},
   "source": [
    "3. A general birth-death chain, `transition_birth_death()`. Define it writing a function that takes `N` as input (the maximum population size) and vectors `p` (the birth probability) and `q` (the death probability) of length N and returns the transition matrix `transition_birth_death`.\n",
    "\n",
    "<img src=\"imgs/birth-death.png\" width=\"600\">"
   ]
  },
  {
   "cell_type": "code",
   "execution_count": 23,
   "metadata": {},
   "outputs": [],
   "source": [
    "#the function takes in input the maximum population size,\n",
    "#the birth probability and the death probability\n",
    "#and returns the transition matrix for a birth-death chain\n",
    "def get_transition_birth_death(N, p, q):\n",
    "    transition_birth_death = np.zeros((N, N))\n",
    "    for i in range (N):\n",
    "            if(i>0):\n",
    "                transition_birth_death[i][i-1] = q[i]\n",
    "            if(i<(N-1)):\n",
    "                transition_birth_death[i][i+1] = p[i]\n",
    "                \n",
    "            if((i>0) & (i<(N-1))):\n",
    "                transition_birth_death[i][i] = 1 - (p[i]+q[i])\n",
    "            elif(i == 0):\n",
    "                transition_birth_death[i][i] = 1 - (p[i])\n",
    "            else:\n",
    "                transition_birth_death[i][i] = 1 - (q[i])\n",
    "                \n",
    "    return transition_birth_death"
   ]
  },
  {
   "cell_type": "code",
   "execution_count": 24,
   "metadata": {},
   "outputs": [
    {
     "data": {
      "text/plain": [
       "array([[0.6, 0.4, 0. , 0. ],\n",
       "       [0.2, 0.4, 0.4, 0. ],\n",
       "       [0. , 0.2, 0.4, 0.4],\n",
       "       [0. , 0. , 0.2, 0.8]])"
      ]
     },
     "execution_count": 24,
     "metadata": {},
     "output_type": "execute_result"
    }
   ],
   "source": [
    "N = 4\n",
    "p = np.array([0.4, 0.4, 0.4, 0.4])\n",
    "q = np.array([0.2, 0.2, 0.2, 0.2])\n",
    "\n",
    "transition_birth_death = get_transition_birth_death(N, p, q)\n",
    "check_well_defined(transition_birth_death)\n",
    "transition_birth_death"
   ]
  },
  {
   "cell_type": "markdown",
   "metadata": {},
   "source": [
    "4. **Queue model**. Queuing chains model the number of customers in the system as a function of time, and in particular, whether the server(s) can adequately handle the flow of customers. \n",
    "Let $X_n$ be the number of custumers in the system at time $n\\in \\mathbb{N}$. \n",
    "Define a DTMC that models a queueing system where the costumer propensity to join the system, i.e. the arrival rate, is inversely proportional to the current length of the queue.\n",
    "\n",
    "\n",
    "Draw the transitions graph, the transition matrix and explain the details of your model in the two following scenarios:\n",
    "\n",
    "4.1. **Single server**: the service is provided by a single server with service rate $\\mu$\n",
    "\n",
    "\n",
    "<img src=\"imgs/xqueue.png\" width=\"300\">\n",
    "\n",
    "\n",
    "4.2. $m$ **servers**: the service is provided by $m$ servers each with a service rate $\\mu$\n",
    "\n",
    "<img src=\"imgs/xqueue_m_servers.png\" width=\"300\">"
   ]
  },
  {
   "cell_type": "markdown",
   "metadata": {},
   "source": [
    "**Single server**\n",
    "The state set is given by the number of customers {1, 2, 3, ...} and the transition graph is very similar to the death-birth chain with the difference that the arrival rate depends on the current state by $\\lambda_k = c * {1 \\over K}$, where c is a constant for all the states and K is one of the states. At each state, there is a probability $\\lambda$ that the lenght of the queue increases by one, another probability $\\mu$ that it decreases by one and the probability of remaining in the same state $1-(\\lambda + \\mu)$. \n",
    "\n",
    "So, the transition graph is the following, with K one of the states of the state set.\n",
    "\n",
    "<img src=\"imgs/1server.png\" width=\"600\">\n",
    "\n",
    "The transition matrix that corresponds to this graph is the following:\n",
    "\n",
    "$$ \\pi = \\begin{bmatrix} 1-\\lambda_0 & \\lambda_0 & 0 & ... & 0 & 0 \\\\ \\mu & 1- ( \\mu + \\lambda_1) & \\lambda_1 & ... & 0 & 0 \\\\ 0 & \\mu & 1- ( \\mu + \\lambda_2 ) & ... & 0 & 0\\\\ ... & ... & ... & ... & ... \\\\ 0 & 0  & 0 & ... & \\mu & 1 - \\mu \\end{bmatrix}$$\n",
    "\n",
    "where $\\lambda_k = c * {1 \\over K}$ for K > 0 and $\\lambda_0$ is choosen to be equal to c.\n",
    "\n",
    "**Multiple servers**\n",
    "The DTMC that models this queueing system is the same of the previous case except for the total service rate that depends on the number of servers $m$ and the current state $K$. It is calculated using the Binomial distrubution:\n",
    "\n",
    "$$P(s) = {{s! \\over {k! (m-s)!} } \\mu^s (1- \\mu)^{m-s}}$$\n",
    "\n",
    "Where m is the number of servers, s is the number of services that are provided in one time step:\n",
    "\n",
    "* When $K \\leq m$ there are maximum K servers involved, each with a service rate of $\\mu$. So the probability of executing k services (and so go back of k states in the queue) is $P(k)$ for all the $k \\leq K$\n",
    "* When the lenght of the queue is greater than the number of servers, the maximum number of services that can be executed is $m$.\n",
    "\n",
    "For example, for K = 4 and m = 3:\n",
    "\n",
    "<img src=\"imgs/binomial.png\" width=\"400\">\n",
    "\n",
    "In general, the transition matrix is:\n",
    "\n",
    "$$ \\pi = \\begin{bmatrix} 1-\\lambda_0 & \\lambda_0 & 0 & ... & 0 & 0\\\\ P(1) & 1- ( P(1) + \\lambda_1) & \\lambda_1 & ... & 0 & 0 \\\\ P(2) & P(1) & 1- ( P(1) + P(2) + \\lambda_2 ) & ... & 0 & 0 \\\\ ... & ... & ... & ... & ... \\\\ 0 & 0  & P(m) & ... & P(1) & 1 - (P(1) + ... + P(m) \\end{bmatrix}$$\n",
    "\n"
   ]
  },
  {
   "cell_type": "code",
   "execution_count": 25,
   "metadata": {},
   "outputs": [],
   "source": [
    "def get_transition_multiple_servers(N, c, mu, m):\n",
    "    transition_multiple_servers = np.zeros((N, N))\n",
    "    \n",
    "    for i in range (N):\n",
    "            if(i<(N-1) and i > 0):\n",
    "                transition_multiple_servers[i][i+1] = c/i\n",
    "            if(i==0):\n",
    "                transition_multiple_servers[i][i+1] = c\n",
    "            if(i>0):\n",
    "                j = 1\n",
    "                while (j <= min(m, i)):\n",
    "                    transition_multiple_servers[i][i-j] = binom.pmf(j, min(m, i), mu)\n",
    "                    j = j +1\n",
    "                    \n",
    "            somma = 0\n",
    "            for l in range(N):\n",
    "                somma = somma + transition_multiple_servers[i][l]\n",
    "                \n",
    "            transition_multiple_servers[i][i] = 1 - somma\n",
    "            \n",
    "    return transition_multiple_servers\n",
    "            "
   ]
  },
  {
   "cell_type": "code",
   "execution_count": 26,
   "metadata": {},
   "outputs": [
    {
     "data": {
      "text/plain": [
       "array([[0.4  , 0.6  , 0.   , 0.   , 0.   ],\n",
       "       [0.2  , 0.2  , 0.6  , 0.   , 0.   ],\n",
       "       [0.04 , 0.32 , 0.34 , 0.3  , 0.   ],\n",
       "       [0.008, 0.096, 0.384, 0.312, 0.2  ],\n",
       "       [0.   , 0.008, 0.096, 0.384, 0.512]])"
      ]
     },
     "execution_count": 26,
     "metadata": {},
     "output_type": "execute_result"
    }
   ],
   "source": [
    "#Get the transition matrix of the queue model\n",
    "K = 5\n",
    "c = 0.6\n",
    "mu = 0.2\n",
    "m = 3\n",
    "\n",
    "#Single server\n",
    "p = [c/(i) if i>0 else c for i in range(K)]\n",
    "q = [mu for i in range(K)]\n",
    "\n",
    "single_server_TM = get_transition_birth_death(K, p, q)\n",
    "check_well_defined(single_server_TM)\n",
    "\n",
    "#Multiple servers\n",
    "multiple_server_TM = get_transition_multiple_servers(K, c, mu, m)\n",
    "check_well_defined(multiple_server_TM)\n",
    "\n",
    "multiple_server_TM"
   ]
  },
  {
   "cell_type": "markdown",
   "metadata": {},
   "source": [
    "### Transient probability\n",
    "Write a function that takes a DTMC as input (both the transition matrix `transition_model` and the initial probability `prob_init_model`) and the number of steps `n`, and returns the probability `prob_model` of being in each state after `n` steps. Plot the output as an histogram. \n",
    "*Extra*: compute the transient probabilities from time 0 to time `n` and visualize this output as a 2d colormap, with one axis representing states, and the other time. \n"
   ]
  },
  {
   "cell_type": "code",
   "execution_count": 27,
   "metadata": {},
   "outputs": [],
   "source": [
    "#the function takes in input the transition matrix,\n",
    "#the initial probabilities and the number of steps\n",
    "#and returns the probability of being in each state after n steps with a colormap\n",
    "def get_prob_model(transition_model, prob_init_model, n, create_plot = True):\n",
    "    pi=[]\n",
    "    pi.append(prob_init_model)\n",
    "\n",
    "    trans_copy=transition_model.copy()\n",
    "    for i in range(n):\n",
    "        trans_copy=np.matmul(trans_copy,transition_model)\n",
    "        prob_model = np.matmul(prob_init_model,trans_copy)\n",
    "        pi.append(prob_model)\n",
    "    \n",
    "    if(create_plot):\n",
    "        print(prob_model)\n",
    "        dfdistribution = pd.DataFrame(pi)\n",
    "\n",
    "        #use a colormap to see the probabilities at each step for each state\n",
    "        plt.pcolormesh(dfdistribution)\n",
    "        plt.xlabel(\"States\")\n",
    "        plt.ylabel(\"Time steps\")\n",
    "        state_num = [i for i in range(len(init_state))]\n",
    "        plt.xticks(np.arange(0.5, len(prob_init_model)+0.5, 1),state_num)\n",
    "        plt.show()\n",
    "\n",
    "        #compare the previous plot with a scatterplot of the probabilities of each state evolving in time steps\n",
    "        dfdistribution.plot()\n",
    "        plt.ylabel(\"Probability\")\n",
    "        plt.xlabel(\"Time steps\")\n",
    "        plt.legend(title = \"State\")\n",
    "        plt.show()\n",
    "    \n",
    "    return prob_model"
   ]
  },
  {
   "cell_type": "code",
   "execution_count": 28,
   "metadata": {},
   "outputs": [
    {
     "name": "stdout",
     "output_type": "stream",
     "text": [
      "[0.4917541  0.41733681 0.09090909]\n"
     ]
    },
    {
     "data": {
      "image/png": "[encoded data removed]",
      "text/plain": [
       "<Figure size 432x288 with 1 Axes>"
      ]
     },
     "metadata": {
      "needs_background": "light"
     },
     "output_type": "display_data"
    },
    {
     "data": {
      "image/png": "[encoded data removed]",
      "text/plain": [
       "<Figure size 432x288 with 1 Axes>"
      ]
     },
     "metadata": {
      "needs_background": "light"
     },
     "output_type": "display_data"
    },
    {
     "data": {
      "text/plain": [
       "Text(0,0.5,'Probability')"
      ]
     },
     "execution_count": 28,
     "metadata": {},
     "output_type": "execute_result"
    },
    {
     "data": {
      "image/png": "[encoded data removed]",
      "text/plain": [
       "<Figure size 288x144 with 1 Axes>"
      ]
     },
     "metadata": {
      "needs_background": "light"
     },
     "output_type": "display_data"
    }
   ],
   "source": [
    "P = np.array([[0.2, 0.7, 0.1],\n",
    "              [0.9, 0.0, 0.1],\n",
    "              [0.2, 0.8, 0.0]])\n",
    "init_state=np.array([1.0, 0.0, 0.0])\n",
    "n = 20\n",
    "\n",
    "prob_model = get_prob_model(P, init_state, n)\n",
    "\n",
    "#plot the probabilities in the n-th step of being in each state\n",
    "state_num = [i for i in range(len(init_state))]\n",
    "fig, axes = plt.subplots(figsize=(4,2))\n",
    "plt.xticks(np.arange(0, len(init_state), 1))\n",
    "plt.bar(state_num, height=prob_model)\n",
    "plt.xlabel(\"States\")\n",
    "plt.ylabel(\"Probability\")\n"
   ]
  },
  {
   "cell_type": "markdown",
   "metadata": {},
   "source": [
    "### Reachability (absorption probability) and hitting times.\n",
    "Write a function that takes as input:\n",
    "- a DTMC (the transition matrix `transition_model` is enough),\n",
    "- a subset of states `target_region` (either specified by their name or by their indices).\n",
    "The function should compute a vector `prob_absorption_model`, containing the **absorption probability** for each state. Use the iterative method discussed in the lecture. \n",
    "\n",
    "Implement also a method with the same input, returning the **expected hitting times** `exp_hitting_time_model`."
   ]
  },
  {
   "cell_type": "code",
   "execution_count": 29,
   "metadata": {},
   "outputs": [],
   "source": [
    "#the function takes in input the transition matrix \n",
    "#and a vector whose values are the indices of the states of the region\n",
    "#and returns the absorption probability for each state and the number of steps executed\n",
    "\n",
    "def get_prob_absorption_model(transition_model, target_region):\n",
    "    \n",
    "    maxcount = 100\n",
    "    #STEP 1: modify DTMC to pi_A\n",
    "    pi_A = transition_model\n",
    "    for i in range(len(target_region)):\n",
    "        index = target_region[i]\n",
    "        for j in range(len(transition_model)):\n",
    "            pi_A[index][j] = 0\n",
    "        pi_A[index][index] = 1\n",
    "        \n",
    "    #STEP 2: compute h_0\n",
    "    h_0 = [0 for i in range(len(transition_model))]\n",
    "    for i in range(len(target_region)):\n",
    "        h_0[target_region[i]]=1\n",
    "        \n",
    "    #STEP 3: compute h_n until the error is smaller than epsilon\n",
    "    h_pre = h_0\n",
    "    h_after = np.matmul(pi_A, h_0)\n",
    "    eps = 0.01\n",
    "    count = 0\n",
    "    \n",
    "    h_pre = h_after\n",
    "    h_after = np.matmul(pi_A,h_after)\n",
    "    count = count + 1  \n",
    "    \n",
    "    while(np.linalg.norm(h_after-h_pre)>eps and count != maxcount):\n",
    "        h_pre = h_after\n",
    "        h_after = np.matmul(pi_A,h_after)\n",
    "        count = count + 1  \n",
    "    \n",
    "    if(count == maxcount):\n",
    "        warnings.warn(\"The algorithm doesn't converge in \" + str(maxcount) + \" steps\")\n",
    "    return h_after, count\n",
    "\n"
   ]
  },
  {
   "cell_type": "code",
   "execution_count": 30,
   "metadata": {},
   "outputs": [],
   "source": [
    "#the function takes in input the transition matrix \n",
    "#and a vector whose values are the indices of the states of the region\n",
    "#and returns the hitting time for each state and the number of steps executed\n",
    "def get_exp_hitting_time_model(transition_model, target_region):\n",
    "    \n",
    "    e_0 = [1 for i in range(len(transition_model))]\n",
    "    maxcount = 100\n",
    "    \n",
    "    #STEP 1: modify DTMC to pi_A\n",
    "    pi_A = transition_model\n",
    "    for i in range(len(target_region)):\n",
    "        index = target_region[i]\n",
    "        for j in range(len(transition_model)):\n",
    "            pi_A[index][j] = 0\n",
    "        pi_A[index][index] = 1\n",
    "        \n",
    "    #STEP 2: compute xi_0\n",
    "    xi_0 = [1 for i in range(len(transition_model))]   \n",
    "    for i in range(len(target_region)):\n",
    "        xi_0[target_region[i]]=0\n",
    "        \n",
    "    #STEP 3: compute xi_n until the error is smaller than epsilon\n",
    "    xi_pre = xi_0\n",
    "    xi_pre= [a + b if a>0 else 0 for a, b in zip(xi_pre, e_0) ] \n",
    "    xi_after = np.matmul(pi_A, (xi_pre))\n",
    "    eps = 0.01\n",
    "    count = 0\n",
    "    \n",
    "    xi_pre = xi_after\n",
    "    xi_after= [a + b if a>0 else 0 for a, b in zip(xi_after, e_0) ]\n",
    "    xi_after = np.matmul(pi_A,(xi_after))\n",
    "    count = count + 1  \n",
    "    \n",
    "    while(np.linalg.norm(xi_after-xi_pre)>eps and count != maxcount):\n",
    "        xi_pre = xi_after\n",
    "        xi_after= [a + b if a>0 else 0 for a, b in zip(xi_after, e_0) ]\n",
    "        xi_after = np.matmul(pi_A,(xi_after))\n",
    "        count = count + 1\n",
    "        \n",
    "    if(count == maxcount):\n",
    "        warnings.warn(\"The algorithm doesn't converge in \" + str(maxcount) + \" steps\")   \n",
    "        \n",
    "    return xi_after, count"
   ]
  },
  {
   "cell_type": "code",
   "execution_count": 31,
   "metadata": {},
   "outputs": [
    {
     "name": "stdout",
     "output_type": "stream",
     "text": [
      "The absortion probability (at the 11-th time step) is the following: \n",
      "[1.         0.86986697 0.68384036 0.40480045 0.        ]\n",
      "The expected hitting time (at the 100-th time step) is the following: \n",
      "[  0.          13.61893491  33.35502959  61.22840237 102.        ]\n"
     ]
    },
    {
     "name": "stderr",
     "output_type": "stream",
     "text": [
      "/home/romina/anaconda3/lib/python3.7/site-packages/ipykernel_launcher.py:41: UserWarning: The algorithm doesn't converge in 100 steps\n"
     ]
    }
   ],
   "source": [
    "#This example is taken from the gambler's ruin of the slides\n",
    "P = np.array([[1, 0, 0, 0, 0],\n",
    "              [0.6, 0, 0.4, 0, 0],\n",
    "              [0, 0.6, 0, 0.4, 0],\n",
    "              [0, 0, 0.6, 0, 0.4],\n",
    "              [0, 0, 0, 0, 1]])\n",
    "region=np.array([0])\n",
    "h_n, n = get_prob_absorption_model(P, region)\n",
    "xi_m, m = get_exp_hitting_time_model(P, region)\n",
    "\n",
    "print(\"The absortion probability (at the \" + str(n) + \"-th time step) is the following: \")\n",
    "print(h_n)\n",
    "\n",
    "print(\"The expected hitting time (at the \" + str(m) + \"-th time step) is the following: \")\n",
    "print(xi_m)"
   ]
  },
  {
   "cell_type": "markdown",
   "metadata": {},
   "source": [
    "### Steady state probability\n",
    "\n",
    "Write a function taking as input a DTMC and computes its steady state probability, assuming the chain is irreducible, aperiodic, and finite. \n",
    "*Extra*: explore Python libraries and find one implementing graph algorithms. Use a method to compute strongly connected components to check if a chain is irreducible. \n",
    "\n",
    "If a chain is not irreducible, feel free to make it reducible adding transitions where needed."
   ]
  },
  {
   "cell_type": "code",
   "execution_count": 32,
   "metadata": {},
   "outputs": [],
   "source": [
    "#the function takes in input the transition matrix and returns the steady state probability and the mixing time\n",
    "\n",
    "def get_steady_state_probability(transition_model):\n",
    "    \n",
    "    #define an inital state (the steady state behaviour doesn't depend on it)\n",
    "    p_0 = [0 for i in range(len(transition_model))]\n",
    "    p_0[0]=1\n",
    "        \n",
    "    #compute p_n until the error is smaller than epsilon = 0.01\n",
    "    p_pre = p_0\n",
    "    p_after = np.matmul(p_0,transition_model)\n",
    "    eps = 0.0001\n",
    "    count = 0\n",
    "    \n",
    "    while(np.linalg.norm(p_after-p_pre)>eps and count != 100):\n",
    "        p_pre = p_after\n",
    "        p_after = np.matmul(p_after,transition_model)\n",
    "        count = count + 1  \n",
    "          \n",
    "    return p_after, count\n"
   ]
  },
  {
   "cell_type": "code",
   "execution_count": 33,
   "metadata": {},
   "outputs": [
    {
     "name": "stdout",
     "output_type": "stream",
     "text": [
      "The absortion probability at the 35-th time step is the following: \n",
      "[0.0466374  0.02339647 0.92996613]\n"
     ]
    }
   ],
   "source": [
    "#This example is taken from the flue model on the slides\n",
    "P = np.array([[0.8, 0.2, 0],\n",
    "              [0.0, 0.6, 0.4],\n",
    "              [0.01, 0.0, 0.99]])\n",
    "region=np.array([0])\n",
    "h_n, n = get_steady_state_probability(P)\n",
    "\n",
    "print(\"The absortion probability at the \" + str(n) + \"-th time step is the following: \")\n",
    "print(h_n)"
   ]
  },
  {
   "cell_type": "markdown",
   "metadata": {},
   "source": [
    "#### Model class\n",
    "\n",
    "Implement a class having all the methods to initialize a DTMC, to compute transient behaviour, steady state behaviour, and reachability. Consider also defining a map linking state numbers to reference meaningful names."
   ]
  },
  {
   "cell_type": "code",
   "execution_count": 34,
   "metadata": {},
   "outputs": [],
   "source": [
    "class DTCM:\n",
    "    \"\"\"A class to initialize a DTMC, to compute transient behaviour, steady state behaviour, and reachability\"\"\"\n",
    "    \n",
    "    def __init__(self, trans_matrix, init_prob):\n",
    "        self.check_well_defined(trans_matrix)\n",
    "        self.trans_matrix = trans_matrix\n",
    "        self.init_prob = init_prob\n",
    "        self.state_names = None\n",
    "\n",
    "    def check_well_defined(self, trans_matrix):\n",
    "        epsilon = 0.0001\n",
    "        for i in range(len(trans_matrix)):\n",
    "            sum_row = 0\n",
    "            for j in range(len(trans_matrix)):\n",
    "                sum_row = sum_row + trans_matrix[i][j]\n",
    "            if(sum_row > (1.0 + epsilon) or sum_row < (1 - epsilon)):\n",
    "                raise Exception(\"The transition matrix is not well defined!\")\n",
    "        \n",
    "        \n",
    "    #Transient behviour\n",
    "    def get_prob_model(self, n, create_plot = True):\n",
    "        pi=[]\n",
    "        pi.append(self.init_prob)\n",
    "        trans_copy=self.trans_matrix.copy()\n",
    "        for i in range(n):\n",
    "            trans_copy=np.matmul(trans_copy,self.trans_matrix)\n",
    "            prob_model = np.matmul(self.init_prob,trans_copy)\n",
    "            pi.append(prob_model)\n",
    "        if(create_plot):\n",
    "            print(prob_model)\n",
    "            dfdistribution = pd.DataFrame(pi)\n",
    "            plt.pcolormesh(dfdistribution)\n",
    "            plt.show()\n",
    "            dfdistribution.plot()\n",
    "            plt.show()\n",
    "        return prob_model\n",
    "\n",
    "    #steady state behaviour\n",
    "    def get_steady_state_probability(self):    \n",
    "        #define an inital state (the steady state behaviour doesn't depend on it)\n",
    "        p_0 = [0 for i in range(len(self.trans_matrix))]\n",
    "        p_0[0]=1        \n",
    "        #compute p_n until the error is smaller than epsilon = 0.01\n",
    "        p_pre = p_0\n",
    "        p_after = np.matmul(p_0,self.trans_matrix)\n",
    "        eps = 0.0001\n",
    "        count = 0    \n",
    "        while(np.linalg.norm(p_after-p_pre)>eps and count != 100):\n",
    "            p_pre = p_after\n",
    "            p_after = np.matmul(p_after,self.trans_matrix)\n",
    "            count = count + 1            \n",
    "        return p_after, count\n",
    "\n",
    "    #reachability\n",
    "    def get_prob_absorption_model(self, target_region):\n",
    "        #STEP 1: modify DTMC to pi_A\n",
    "        pi_A = self.trans_matrix\n",
    "        for i in range(len(target_region)):\n",
    "            index = target_region[i]\n",
    "            for j in range(len(self.trans_matrix)):\n",
    "                pi_A[index][j] = 0\n",
    "            pi_A[index][index] = 1\n",
    "        #STEP 2: compute h_0\n",
    "        h_0 = [0 for i in range(len(self.trans_matrix))]\n",
    "        for i in range(len(target_region)):\n",
    "            h_0[target_region[i]]=1\n",
    "        #STEP 3: compute h_n until the error is smaller than epsilon = 0.01\n",
    "        h_pre = h_0\n",
    "        h_after = np.matmul(pi_A, h_0)\n",
    "        eps = 0.01\n",
    "        count = 0\n",
    "        h_pre = h_after\n",
    "        h_after = np.matmul(pi_A,h_after)\n",
    "        count = count + 1  \n",
    "        while(np.linalg.norm(h_after-h_pre)>eps and count != 100):\n",
    "            h_pre = h_after\n",
    "            h_after = np.matmul(pi_A,h_after)\n",
    "            count = count + 1            \n",
    "        return h_after, count\n",
    "    \n",
    "    #hitting time\n",
    "    def get_exp_hitting_time_model(self, target_region):    \n",
    "        e_0 = [1 for i in range(len(self.trans_matrix))]\n",
    "        maxcount = 100\n",
    "        #STEP 1: modify DTMC to pi_A\n",
    "        pi_A = self.trans_matrix\n",
    "        for i in range(len(target_region)):\n",
    "            index = target_region[i]\n",
    "            for j in range(len(self.trans_matrix)):\n",
    "                pi_A[index][j] = 0\n",
    "            pi_A[index][index] = 1\n",
    "        #STEP 2: compute xi_0\n",
    "        xi_0 = [1 for i in range(len(self.trans_matrix))]   \n",
    "        for i in range(len(target_region)):\n",
    "            xi_0[target_region[i]]=0\n",
    "        #STEP 3: compute xi_n until the error is smaller than epsilon\n",
    "        xi_pre = xi_0\n",
    "        xi_pre= [a + b if a>0 else 0 for a, b in zip(xi_pre, e_0) ] \n",
    "        xi_after = np.matmul(pi_A, (xi_pre))\n",
    "        eps = 0.01\n",
    "        count = 0\n",
    "        xi_pre = xi_after\n",
    "        xi_after= [a + b if a>0 else 0 for a, b in zip(xi_after, e_0) ]\n",
    "        xi_after = np.matmul(pi_A,(xi_after))\n",
    "        count = count + 1  \n",
    "        while(np.linalg.norm(xi_after-xi_pre)>eps and count != maxcount):\n",
    "            xi_pre = xi_after\n",
    "            xi_after= [a + b if a>0 else 0 for a, b in zip(xi_after, e_0) ]\n",
    "            xi_after = np.matmul(pi_A,(xi_after))\n",
    "            count = count + 1\n",
    "        if(count == maxcount):\n",
    "            warnings.warn(\"The algorithm doesn't converge in \" + str(maxcount) + \" steps\")   \n",
    "        return xi_after, count\n",
    "    \n",
    "    #map linking state numbers to names\n",
    "    def map_names(self, names):\n",
    "        state_num = [i for i in range(len(self.trans_matrix))]\n",
    "        self.state_names = dict(zip(state_num, names))\n"
   ]
  },
  {
   "cell_type": "code",
   "execution_count": 35,
   "metadata": {},
   "outputs": [
    {
     "data": {
      "text/plain": [
       "{0: 'Pippo', 1: 'state_2', 2: 'state_3'}"
      ]
     },
     "execution_count": 35,
     "metadata": {},
     "output_type": "execute_result"
    }
   ],
   "source": [
    "#test the class with an example\n",
    "P = np.array([[0.2, 0.7, 0.1],\n",
    "              [0.9, 0.0, 0.1],\n",
    "              [0.2, 0.8, 0.0]])\n",
    "init_state=np.array([1.0, 0.0, 0.0])\n",
    "n = 20\n",
    "\n",
    "dtcm = DTCM(P, init_state)\n",
    "dtcm.get_prob_model(n, False)\n",
    "dtcm.get_steady_state_probability()\n",
    "dtcm.get_prob_absorption_model([0])\n",
    "dtcm.map_names([\"Pippo\", \"state_2\", \"state_3\"])\n",
    "dtcm.state_names"
   ]
  },
  {
   "cell_type": "markdown",
   "metadata": {},
   "source": [
    "### Summary exercise\n",
    "#### Small Monopoly: \n",
    "\n",
    "The game Small Monopoly is played on a\n",
    "game board that has 16 spaces arranged around the outside of a square. The squares\n",
    "have names like Reading Railroad and Park Place but we will number the squares\n",
    "0 (Go), 1 (Baltic Avenue), ..., 15 (Boardwalk). You roll two dice\n",
    "and move forward a number of spaces equal to the sum. The game ends when you reach or pass Boardwalk.\n",
    "\n",
    "- Square 12 is “Go to Jail,” which sends you to square 4. If you roll a double, you get out.\n",
    "- There are two Chance squares at 2 and 10 (diamonds on the graph) where you\n",
    "draw a card, which can send you to another square. The card is picked (with replacement) from a deck containing all the 16 squares.\n",
    "\n",
    "- Described this game as a directed graph, i.e. define its transition matrix.\n",
    "- What is the probability of ending the game?\n",
    "- How long does a game take on average?"
   ]
  },
  {
   "cell_type": "markdown",
   "metadata": {},
   "source": [
    "<img src=\"imgs/monopoly.png\" width=\"300\">"
   ]
  },
  {
   "cell_type": "markdown",
   "metadata": {},
   "source": [
    "We can consider that rolling 2 dices allows the following movements with the respective probabilities (approximated):\n",
    "<img src=\"imgs/table.png\" width=\"200\">\n",
    "\n",
    "From this probabilities, we can build the transition matrix, also considering the other rules of the game. The following assumptions are made:\n",
    "* If you are in the jail and you roll a double, you go out to the square corresponding to the sum of your dices\n",
    "* When you pick a card (chances), you have the probability of 0.0625 of arriving to any square \n",
    "* If performing the number of steps defined by the dices you go over 15, then it means that you won. So, the probability of reaching the 15-th square sums to the probability of passing it.\n",
    "\n"
   ]
  },
  {
   "cell_type": "code",
   "execution_count": 36,
   "metadata": {},
   "outputs": [
    {
     "name": "stdout",
     "output_type": "stream",
     "text": [
      "The probability of ending the game (with average time: 3.220094604408118 ) is the following: \n",
      "0.9885104926584927\n"
     ]
    }
   ],
   "source": [
    "#Build the transition matrix and initial state\n",
    "pi = [[0, 0, 0.03, 0.06, 0.08, 0.11, 0.14, 0.16, 0.14, 0.11, 0.08, 0.06, 0.03, 0, 0, 0],\n",
    "     [0, 0, 0, 0.03, 0.06, 0.08, 0.11, 0.14, 0.16, 0.14, 0.11, 0.08, 0.06, 0.03, 0, 0],\n",
    "     [0.0625, 0.0625, 0.0625, 0.0625, 0.0625, 0.0625, 0.0625, 0.0625, 0.0625, 0.0625, 0.0625, 0.0625, 0.0625, 0.0625, 0.0625, 0.0625],\n",
    "     [0, 0, 0, 0, 0, 0.03, 0.06, 0.08, 0.11, 0.14, 0.16, 0.14, 0.11, 0.08, 0.06, 0.03],\n",
    "     [0, 0, 0, 0, 1-(0.03*6), 0, 0.03, 0, 0.03, 0, 0.03, 0, 0.03, 0, 0.03, 0.03],\n",
    "     [0, 0, 0, 0, 0, 0, 0, 0.03, 0.06, 0.08, 0.11, 0.14, 0.16, 0.14, 0.11, 0.08+0.06+0.03],\n",
    "     [0, 0, 0, 0, 0, 0, 0, 0, 0.03, 0.06, 0.08, 0.11, 0.14, 0.16, 0.14, 0.11+0.08+0.06+0.03],\n",
    "     [0, 0, 0, 0, 0, 0, 0, 0, 0, 0.03, 0.06, 0.08, 0.11, 0.14, 0.16, 0.14+0.11+0.08+0.06+0.03],\n",
    "     [0, 0, 0, 0, 0, 0, 0, 0, 0, 0, 0.03, 0.06, 0.08, 0.11, 0.14, 0.16+0.14+0.11+0.08+0.06+0.03],\n",
    "     [0, 0, 0, 0, 0, 0, 0, 0, 0, 0, 0, 0.03, 0.06, 0.08, 0.11, 0.14+0.16+0.14+0.11+0.08+0.06+0.03],\n",
    "     [0.0625, 0.0625, 0.0625, 0.0625, 0.0625, 0.0625, 0.0625, 0.0625, 0.0625, 0.0625, 0.0625, 0.0625, 0.0625, 0.0625, 0.0625, 0.0625],\n",
    "     [0, 0, 0, 0, 0, 0, 0, 0, 0, 0, 0, 0, 0, 0.03, 0.06, 0.08+0.11+0.14+0.16+0.14+0.11+0.08+0.06+0.03],\n",
    "     [0, 0, 0, 0, 1, 0, 0, 0, 0, 0, 0, 0, 0, 0, 0, 0],\n",
    "     [0, 0, 0, 0, 0, 0, 0, 0, 0, 0, 0, 0, 0, 0, 0, 1],\n",
    "     [0, 0, 0, 0, 0, 0, 0, 0, 0, 0, 0, 0, 0, 0, 0, 1],\n",
    "     [0, 0, 0, 0, 0, 0, 0, 0, 0, 0, 0, 0, 0, 0, 0, 1]]\n",
    "\n",
    "init_state = [1, 0, 0, 0, 0, 0, 0, 0, 0, 0, 0, 0, 0, 0, 0, 0]\n",
    "\n",
    "#Initialize the DTCM\n",
    "dtcm = DTCM(pi, init_state)\n",
    "dtcm.map_names([\"Go\", \"Baltic Avenue\", \"Reading Railroad\", \"Park Place\" , \"Jail\", \"Galactic Square\", \"Romantic Street\" , \"China Town\", \"Shopping Center\", \"Tatooine\", \"Blue Lake\" , \"Paradise Beach\" ,\"Gangster Town\" , \"Luna Park\" , \"Castle Black\" ,\"Boardwalk\"])\n",
    "\n",
    "#Compute the probability of ending the game and the expected hitting time\n",
    "p_end, n = dtcm.get_prob_absorption_model([15])\n",
    "t_end, m = dtcm.get_exp_hitting_time_model([15])\n",
    "\n",
    "print(\"The probability of ending the game (with average time: \" + str(t_end[0]) + \" ) is the following: \")\n",
    "print(p_end[0])"
   ]
  }
 ],
 "metadata": {
  "kernelspec": {
   "display_name": "Python 3 (ipykernel)",
   "language": "python",
   "name": "python3"
  },
  "language_info": {
   "codemirror_mode": {
    "name": "ipython",
    "version": 3
   },
   "file_extension": ".py",
   "mimetype": "text/x-python",
   "name": "python",
   "nbconvert_exporter": "python",
   "pygments_lexer": "ipython3",
   "version": "3.7.0"
  }
 },
 "nbformat": 4,
 "nbformat_minor": 2
}
